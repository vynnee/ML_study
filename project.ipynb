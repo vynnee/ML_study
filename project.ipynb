{
 "cells": [
  {
   "cell_type": "markdown",
   "metadata": {},
   "source": [
    "# 머신러닝 스터디 미니 프로젝트"
   ]
  },
  {
   "cell_type": "markdown",
   "metadata": {},
   "source": [
    "## 범죄율 예측"
   ]
  },
  {
   "cell_type": "markdown",
   "metadata": {},
   "source": [
    "* Kaggle\n",
    "\n",
    "https://www.kaggle.com/arslanali4343/real-estate-dataset"
   ]
  },
  {
   "cell_type": "markdown",
   "metadata": {},
   "source": [
    "* 변수 설명\n",
    "\n",
    "CRIM : 도시별 1인당 범죄율\n",
    "\n",
    "ZN : 25,000 평방피트가 넘는 대지의 면적\n",
    "\n",
    "INDUS : 도시당 실업 면적의 비율\n",
    "\n",
    "CHAS (Charles River) : 강 경계 x = 1, 강 경계 x = 0\n",
    "\n",
    "NOX : 산화질소 농도\n",
    "\n",
    "RM : 주거당 평균 방수\n",
    "\n",
    "DIS : 5개의 보스턴 고용인원까지의 가중 거리\n",
    "\n",
    "RAD : 방사형 고속도로 접근성 지수\n",
    "\n",
    "TAX : 1만 달러당 전체 가치 부동산-세금 운명\n",
    "\n",
    "AGE : 1940 년 이전에 지어진 소유주가 소유 한 주택의 연령 비율\n",
    "\n",
    "B : 1000(Bk - 0.63)^2 여기서 Bk는 도시별 흑인의 비율입니다.\n",
    "\n",
    "LSTAT : 모집단의 하위 상태 %\n",
    "\n",
    "MEDV : 1000달러 기준 자가주택의 중간값"
   ]
  },
  {
   "cell_type": "markdown",
   "metadata": {},
   "source": [
    "## (1) 패키지 불러오기"
   ]
  },
  {
   "cell_type": "code",
   "execution_count": 149,
   "metadata": {},
   "outputs": [],
   "source": [
    "import matplotlib.pyplot as plt\n",
    "plt.rcParams['font.family']='Malgun Gothic'\n",
    "plt.rcParams['axes.unicode_minus']=False\n",
    "import pandas as pd\n",
    "import numpy as np\n",
    "import seaborn as sns; sns.set()"
   ]
  },
  {
   "cell_type": "markdown",
   "metadata": {},
   "source": [
    "## (2) 데이터 불러오기"
   ]
  },
  {
   "cell_type": "code",
   "execution_count": 150,
   "metadata": {},
   "outputs": [],
   "source": [
    "data_path = 'data.csv'\n",
    "data = pd.read_csv(data_path, encoding = 'CP949')"
   ]
  },
  {
   "cell_type": "code",
   "execution_count": 151,
   "metadata": {},
   "outputs": [
    {
     "data": {
      "text/html": [
       "<div>\n",
       "<style scoped>\n",
       "    .dataframe tbody tr th:only-of-type {\n",
       "        vertical-align: middle;\n",
       "    }\n",
       "\n",
       "    .dataframe tbody tr th {\n",
       "        vertical-align: top;\n",
       "    }\n",
       "\n",
       "    .dataframe thead th {\n",
       "        text-align: right;\n",
       "    }\n",
       "</style>\n",
       "<table border=\"1\" class=\"dataframe\">\n",
       "  <thead>\n",
       "    <tr style=\"text-align: right;\">\n",
       "      <th></th>\n",
       "      <th>CRIM</th>\n",
       "      <th>ZN</th>\n",
       "      <th>INDUS</th>\n",
       "      <th>CHAS</th>\n",
       "      <th>NOX</th>\n",
       "      <th>RM</th>\n",
       "      <th>AGE</th>\n",
       "      <th>DIS</th>\n",
       "      <th>RAD</th>\n",
       "      <th>TAX</th>\n",
       "      <th>PTRATIO</th>\n",
       "      <th>B</th>\n",
       "      <th>LSTAT</th>\n",
       "      <th>MEDV</th>\n",
       "    </tr>\n",
       "  </thead>\n",
       "  <tbody>\n",
       "    <tr>\n",
       "      <th>0</th>\n",
       "      <td>0.00632</td>\n",
       "      <td>18.0</td>\n",
       "      <td>2.31</td>\n",
       "      <td>0</td>\n",
       "      <td>0.538</td>\n",
       "      <td>6.575</td>\n",
       "      <td>65.2</td>\n",
       "      <td>4.0900</td>\n",
       "      <td>1</td>\n",
       "      <td>296</td>\n",
       "      <td>15.3</td>\n",
       "      <td>396.90</td>\n",
       "      <td>4.98</td>\n",
       "      <td>24.0</td>\n",
       "    </tr>\n",
       "    <tr>\n",
       "      <th>1</th>\n",
       "      <td>0.02731</td>\n",
       "      <td>0.0</td>\n",
       "      <td>7.07</td>\n",
       "      <td>0</td>\n",
       "      <td>0.469</td>\n",
       "      <td>6.421</td>\n",
       "      <td>78.9</td>\n",
       "      <td>4.9671</td>\n",
       "      <td>2</td>\n",
       "      <td>242</td>\n",
       "      <td>17.8</td>\n",
       "      <td>396.90</td>\n",
       "      <td>9.14</td>\n",
       "      <td>21.6</td>\n",
       "    </tr>\n",
       "    <tr>\n",
       "      <th>2</th>\n",
       "      <td>0.02729</td>\n",
       "      <td>0.0</td>\n",
       "      <td>7.07</td>\n",
       "      <td>0</td>\n",
       "      <td>0.469</td>\n",
       "      <td>7.185</td>\n",
       "      <td>61.1</td>\n",
       "      <td>4.9671</td>\n",
       "      <td>2</td>\n",
       "      <td>242</td>\n",
       "      <td>17.8</td>\n",
       "      <td>392.83</td>\n",
       "      <td>4.03</td>\n",
       "      <td>34.7</td>\n",
       "    </tr>\n",
       "    <tr>\n",
       "      <th>3</th>\n",
       "      <td>0.03237</td>\n",
       "      <td>0.0</td>\n",
       "      <td>2.18</td>\n",
       "      <td>0</td>\n",
       "      <td>0.458</td>\n",
       "      <td>6.998</td>\n",
       "      <td>45.8</td>\n",
       "      <td>6.0622</td>\n",
       "      <td>3</td>\n",
       "      <td>222</td>\n",
       "      <td>18.7</td>\n",
       "      <td>394.63</td>\n",
       "      <td>2.94</td>\n",
       "      <td>33.4</td>\n",
       "    </tr>\n",
       "    <tr>\n",
       "      <th>4</th>\n",
       "      <td>0.06905</td>\n",
       "      <td>0.0</td>\n",
       "      <td>2.18</td>\n",
       "      <td>0</td>\n",
       "      <td>0.458</td>\n",
       "      <td>7.147</td>\n",
       "      <td>54.2</td>\n",
       "      <td>6.0622</td>\n",
       "      <td>3</td>\n",
       "      <td>222</td>\n",
       "      <td>18.7</td>\n",
       "      <td>396.90</td>\n",
       "      <td>5.33</td>\n",
       "      <td>36.2</td>\n",
       "    </tr>\n",
       "  </tbody>\n",
       "</table>\n",
       "</div>"
      ],
      "text/plain": [
       "      CRIM    ZN  INDUS  CHAS    NOX     RM   AGE     DIS  RAD  TAX  PTRATIO  \\\n",
       "0  0.00632  18.0   2.31     0  0.538  6.575  65.2  4.0900    1  296     15.3   \n",
       "1  0.02731   0.0   7.07     0  0.469  6.421  78.9  4.9671    2  242     17.8   \n",
       "2  0.02729   0.0   7.07     0  0.469  7.185  61.1  4.9671    2  242     17.8   \n",
       "3  0.03237   0.0   2.18     0  0.458  6.998  45.8  6.0622    3  222     18.7   \n",
       "4  0.06905   0.0   2.18     0  0.458  7.147  54.2  6.0622    3  222     18.7   \n",
       "\n",
       "        B  LSTAT  MEDV  \n",
       "0  396.90   4.98  24.0  \n",
       "1  396.90   9.14  21.6  \n",
       "2  392.83   4.03  34.7  \n",
       "3  394.63   2.94  33.4  \n",
       "4  396.90   5.33  36.2  "
      ]
     },
     "execution_count": 151,
     "metadata": {},
     "output_type": "execute_result"
    }
   ],
   "source": [
    "data.head()"
   ]
  },
  {
   "cell_type": "code",
   "execution_count": 152,
   "metadata": {},
   "outputs": [
    {
     "name": "stdout",
     "output_type": "stream",
     "text": [
      "<class 'pandas.core.frame.DataFrame'>\n",
      "RangeIndex: 511 entries, 0 to 510\n",
      "Data columns (total 14 columns):\n",
      " #   Column   Non-Null Count  Dtype  \n",
      "---  ------   --------------  -----  \n",
      " 0   CRIM     511 non-null    float64\n",
      " 1   ZN       511 non-null    float64\n",
      " 2   INDUS    511 non-null    float64\n",
      " 3   CHAS     511 non-null    int64  \n",
      " 4   NOX      511 non-null    float64\n",
      " 5   RM       506 non-null    float64\n",
      " 6   AGE      511 non-null    float64\n",
      " 7   DIS      511 non-null    float64\n",
      " 8   RAD      511 non-null    int64  \n",
      " 9   TAX      511 non-null    int64  \n",
      " 10  PTRATIO  511 non-null    float64\n",
      " 11  B        511 non-null    float64\n",
      " 12  LSTAT    511 non-null    float64\n",
      " 13  MEDV     511 non-null    float64\n",
      "dtypes: float64(11), int64(3)\n",
      "memory usage: 56.0 KB\n"
     ]
    }
   ],
   "source": [
    "data.info()"
   ]
  },
  {
   "cell_type": "markdown",
   "metadata": {},
   "source": [
    "## (3) EDA"
   ]
  },
  {
   "cell_type": "markdown",
   "metadata": {},
   "source": [
    "### 결측값 확인 및 처리"
   ]
  },
  {
   "cell_type": "code",
   "execution_count": 153,
   "metadata": {},
   "outputs": [
    {
     "data": {
      "text/plain": [
       "CRIM       0\n",
       "ZN         0\n",
       "INDUS      0\n",
       "CHAS       0\n",
       "NOX        0\n",
       "RM         5\n",
       "AGE        0\n",
       "DIS        0\n",
       "RAD        0\n",
       "TAX        0\n",
       "PTRATIO    0\n",
       "B          0\n",
       "LSTAT      0\n",
       "MEDV       0\n",
       "dtype: int64"
      ]
     },
     "execution_count": 153,
     "metadata": {},
     "output_type": "execute_result"
    }
   ],
   "source": [
    "data.isnull().sum()"
   ]
  },
  {
   "cell_type": "code",
   "execution_count": 154,
   "metadata": {},
   "outputs": [
    {
     "data": {
      "text/html": [
       "<div>\n",
       "<style scoped>\n",
       "    .dataframe tbody tr th:only-of-type {\n",
       "        vertical-align: middle;\n",
       "    }\n",
       "\n",
       "    .dataframe tbody tr th {\n",
       "        vertical-align: top;\n",
       "    }\n",
       "\n",
       "    .dataframe thead th {\n",
       "        text-align: right;\n",
       "    }\n",
       "</style>\n",
       "<table border=\"1\" class=\"dataframe\">\n",
       "  <thead>\n",
       "    <tr style=\"text-align: right;\">\n",
       "      <th></th>\n",
       "      <th>CRIM</th>\n",
       "      <th>ZN</th>\n",
       "      <th>INDUS</th>\n",
       "      <th>CHAS</th>\n",
       "      <th>NOX</th>\n",
       "      <th>RM</th>\n",
       "      <th>AGE</th>\n",
       "      <th>DIS</th>\n",
       "      <th>RAD</th>\n",
       "      <th>TAX</th>\n",
       "      <th>PTRATIO</th>\n",
       "      <th>B</th>\n",
       "      <th>LSTAT</th>\n",
       "      <th>MEDV</th>\n",
       "    </tr>\n",
       "  </thead>\n",
       "  <tbody>\n",
       "    <tr>\n",
       "      <th>10</th>\n",
       "      <td>0.22489</td>\n",
       "      <td>12.5</td>\n",
       "      <td>7.87</td>\n",
       "      <td>0</td>\n",
       "      <td>0.524</td>\n",
       "      <td>NaN</td>\n",
       "      <td>94.3</td>\n",
       "      <td>6.3467</td>\n",
       "      <td>5</td>\n",
       "      <td>311</td>\n",
       "      <td>15.2</td>\n",
       "      <td>392.52</td>\n",
       "      <td>20.45</td>\n",
       "      <td>15.0</td>\n",
       "    </tr>\n",
       "    <tr>\n",
       "      <th>35</th>\n",
       "      <td>0.06417</td>\n",
       "      <td>0.0</td>\n",
       "      <td>5.96</td>\n",
       "      <td>0</td>\n",
       "      <td>0.499</td>\n",
       "      <td>NaN</td>\n",
       "      <td>68.2</td>\n",
       "      <td>3.3603</td>\n",
       "      <td>5</td>\n",
       "      <td>279</td>\n",
       "      <td>19.2</td>\n",
       "      <td>396.90</td>\n",
       "      <td>9.68</td>\n",
       "      <td>18.9</td>\n",
       "    </tr>\n",
       "    <tr>\n",
       "      <th>63</th>\n",
       "      <td>0.12650</td>\n",
       "      <td>25.0</td>\n",
       "      <td>5.13</td>\n",
       "      <td>0</td>\n",
       "      <td>0.453</td>\n",
       "      <td>NaN</td>\n",
       "      <td>43.4</td>\n",
       "      <td>7.9809</td>\n",
       "      <td>8</td>\n",
       "      <td>284</td>\n",
       "      <td>19.7</td>\n",
       "      <td>395.58</td>\n",
       "      <td>9.50</td>\n",
       "      <td>25.0</td>\n",
       "    </tr>\n",
       "    <tr>\n",
       "      <th>96</th>\n",
       "      <td>0.11504</td>\n",
       "      <td>0.0</td>\n",
       "      <td>2.89</td>\n",
       "      <td>0</td>\n",
       "      <td>0.445</td>\n",
       "      <td>NaN</td>\n",
       "      <td>69.6</td>\n",
       "      <td>3.4952</td>\n",
       "      <td>2</td>\n",
       "      <td>276</td>\n",
       "      <td>18.0</td>\n",
       "      <td>391.83</td>\n",
       "      <td>11.34</td>\n",
       "      <td>21.4</td>\n",
       "    </tr>\n",
       "    <tr>\n",
       "      <th>135</th>\n",
       "      <td>0.55778</td>\n",
       "      <td>0.0</td>\n",
       "      <td>21.89</td>\n",
       "      <td>0</td>\n",
       "      <td>0.624</td>\n",
       "      <td>NaN</td>\n",
       "      <td>98.2</td>\n",
       "      <td>2.1107</td>\n",
       "      <td>4</td>\n",
       "      <td>437</td>\n",
       "      <td>21.2</td>\n",
       "      <td>394.67</td>\n",
       "      <td>16.96</td>\n",
       "      <td>18.1</td>\n",
       "    </tr>\n",
       "  </tbody>\n",
       "</table>\n",
       "</div>"
      ],
      "text/plain": [
       "        CRIM    ZN  INDUS  CHAS    NOX  RM   AGE     DIS  RAD  TAX  PTRATIO  \\\n",
       "10   0.22489  12.5   7.87     0  0.524 NaN  94.3  6.3467    5  311     15.2   \n",
       "35   0.06417   0.0   5.96     0  0.499 NaN  68.2  3.3603    5  279     19.2   \n",
       "63   0.12650  25.0   5.13     0  0.453 NaN  43.4  7.9809    8  284     19.7   \n",
       "96   0.11504   0.0   2.89     0  0.445 NaN  69.6  3.4952    2  276     18.0   \n",
       "135  0.55778   0.0  21.89     0  0.624 NaN  98.2  2.1107    4  437     21.2   \n",
       "\n",
       "          B  LSTAT  MEDV  \n",
       "10   392.52  20.45  15.0  \n",
       "35   396.90   9.68  18.9  \n",
       "63   395.58   9.50  25.0  \n",
       "96   391.83  11.34  21.4  \n",
       "135  394.67  16.96  18.1  "
      ]
     },
     "execution_count": 154,
     "metadata": {},
     "output_type": "execute_result"
    }
   ],
   "source": [
    "data[data['RM'].isnull()]"
   ]
  },
  {
   "cell_type": "code",
   "execution_count": 155,
   "metadata": {},
   "outputs": [],
   "source": [
    "mean_rm = data['RM'].mean(axis = 0)\n",
    "data['RM'] = data.fillna(mean_rm) # 결측치 평균으로 대체"
   ]
  },
  {
   "cell_type": "code",
   "execution_count": 156,
   "metadata": {},
   "outputs": [
    {
     "data": {
      "text/plain": [
       "3.584138577299414"
      ]
     },
     "execution_count": 156,
     "metadata": {},
     "output_type": "execute_result"
    }
   ],
   "source": [
    "mean_rm = data['RM'].mean(axis = 0)\n",
    "mean_rm"
   ]
  },
  {
   "cell_type": "code",
   "execution_count": 157,
   "metadata": {},
   "outputs": [
    {
     "data": {
      "text/plain": [
       "CRIM       0\n",
       "ZN         0\n",
       "INDUS      0\n",
       "CHAS       0\n",
       "NOX        0\n",
       "RM         0\n",
       "AGE        0\n",
       "DIS        0\n",
       "RAD        0\n",
       "TAX        0\n",
       "PTRATIO    0\n",
       "B          0\n",
       "LSTAT      0\n",
       "MEDV       0\n",
       "dtype: int64"
      ]
     },
     "execution_count": 157,
     "metadata": {},
     "output_type": "execute_result"
    }
   ],
   "source": [
    "data.isnull().sum() # 결측치 사라짐"
   ]
  },
  {
   "cell_type": "markdown",
   "metadata": {},
   "source": [
    "### 상관관계"
   ]
  },
  {
   "cell_type": "code",
   "execution_count": 158,
   "metadata": {},
   "outputs": [
    {
     "name": "stdout",
     "output_type": "stream",
     "text": [
      "               ZN     INDUS      CHAS       NOX        RM       AGE       DIS  \\\n",
      "ZN       1.000000 -0.534106 -0.041333 -0.516256 -0.198451 -0.567796  0.665185   \n",
      "INDUS   -0.534106  1.000000  0.062332  0.763583  0.405524  0.642817 -0.707886   \n",
      "CHAS    -0.041333  0.062332  1.000000  0.091023 -0.054906  0.085814 -0.097541   \n",
      "NOX     -0.516256  0.763583  0.091023  1.000000  0.420524  0.729233 -0.768309   \n",
      "RM      -0.198451  0.405524 -0.054906  0.420524  1.000000  0.350847 -0.377028   \n",
      "AGE     -0.567796  0.642817  0.085814  0.729233  0.350847  1.000000 -0.745097   \n",
      "DIS      0.665185 -0.707886 -0.097541 -0.768309 -0.377028 -0.745097  1.000000   \n",
      "RAD     -0.307146  0.591784 -0.005343  0.609343  0.625964  0.452229 -0.488474   \n",
      "TAX     -0.311531  0.718764 -0.034244  0.666982  0.583389  0.503360 -0.530379   \n",
      "PTRATIO -0.392844  0.379441 -0.124415  0.186073  0.276695  0.258251 -0.238155   \n",
      "B        0.175637 -0.356955  0.048970 -0.379936 -0.384356 -0.271925  0.290997   \n",
      "LSTAT   -0.390029  0.556707 -0.057013  0.540050  0.405030  0.529994 -0.467063   \n",
      "MEDV     0.339767 -0.463269  0.164782 -0.411486 -0.380072 -0.368203  0.233469   \n",
      "\n",
      "              RAD       TAX   PTRATIO         B     LSTAT      MEDV  \n",
      "ZN      -0.307146 -0.311531 -0.392844  0.175637 -0.390029  0.339767  \n",
      "INDUS    0.591784  0.718764  0.379441 -0.356955  0.556707 -0.463269  \n",
      "CHAS    -0.005343 -0.034244 -0.124415  0.048970 -0.057013  0.164782  \n",
      "NOX      0.609343  0.666982  0.186073 -0.379936  0.540050 -0.411486  \n",
      "RM       0.625964  0.583389  0.276695 -0.384356  0.405030 -0.380072  \n",
      "AGE      0.452229  0.503360  0.258251 -0.271925  0.529994 -0.368203  \n",
      "DIS     -0.488474 -0.530379 -0.238155  0.290997 -0.467063  0.233469  \n",
      "RAD      1.000000  0.910211  0.438646 -0.442406  0.422389 -0.379016  \n",
      "TAX      0.910211  1.000000  0.440962 -0.440830  0.482088 -0.459274  \n",
      "PTRATIO  0.438646  0.440962  1.000000 -0.175251  0.393263 -0.447464  \n",
      "B       -0.442406 -0.440830 -0.175251  1.000000 -0.339910  0.317941  \n",
      "LSTAT    0.422389  0.482088  0.393263 -0.339910  1.000000 -0.562960  \n",
      "MEDV    -0.379016 -0.459274 -0.447464  0.317941 -0.562960  1.000000  \n"
     ]
    }
   ],
   "source": [
    "cols = [\"ZN\", \"INDUS\", \"CHAS\", \"NOX\", \"RM\", \"AGE\", \"DIS\", \"RAD\", \n",
    "        \"TAX\", \"PTRATIO\", \"B\", \"LSTAT\", \"MEDV\"]\n",
    "corr = data[cols].corr(method = 'pearson')\n",
    "print(corr)"
   ]
  },
  {
   "cell_type": "code",
   "execution_count": 159,
   "metadata": {},
   "outputs": [
    {
     "data": {
      "image/png": "[encoded data removed]",
      "text/plain": [
       "<Figure size 432x288 with 2 Axes>"
      ]
     },
     "metadata": {},
     "output_type": "display_data"
    }
   ],
   "source": [
    "sns.set(font_scale = 1.0)\n",
    "hm = sns.heatmap(corr.values,\n",
    "                cbar = True,\n",
    "                annot = True,\n",
    "                square = True,\n",
    "                fmt = '.2f',\n",
    "                annot_kws = {'size' : 10},\n",
    "                xticklabels = cols,\n",
    "                yticklabels = cols,\n",
    "                cmap = 'Blues')\n",
    "plt.tight_layout()\n",
    "plt.show()"
   ]
  },
  {
   "cell_type": "markdown",
   "metadata": {},
   "source": [
    "### 데이터 세트 분리하기"
   ]
  },
  {
   "cell_type": "code",
   "execution_count": 160,
   "metadata": {},
   "outputs": [],
   "source": [
    "from sklearn.model_selection import train_test_split\n",
    "\n",
    "x = data[['ZN', 'INDUS', 'CHAS', 'NOX', 'RM', 'AGE', 'DIS', 'RAD', 'TAX', 'PTRATIO', 'B', 'LSTAT', 'MEDV']]\n",
    "y = data[['CRIM']]\n",
    "\n",
    "x_train, x_test, y_train, y_test = train_test_split(x, y, train_size = 0.8, test_size = 0.2)"
   ]
  },
  {
   "cell_type": "markdown",
   "metadata": {},
   "source": [
    "### 모델 생성하기"
   ]
  },
  {
   "cell_type": "code",
   "execution_count": 161,
   "metadata": {},
   "outputs": [
    {
     "data": {
      "text/plain": [
       "LinearRegression(copy_X=True, fit_intercept=True, n_jobs=None, normalize=False)"
      ]
     },
     "execution_count": 161,
     "metadata": {},
     "output_type": "execute_result"
    }
   ],
   "source": [
    "from sklearn.linear_model import LinearRegression\n",
    "\n",
    "mlr = LinearRegression()\n",
    "mlr.fit(x_train, y_train)"
   ]
  },
  {
   "cell_type": "code",
   "execution_count": 162,
   "metadata": {},
   "outputs": [],
   "source": [
    "y_predict = mlr.predict(x_test)"
   ]
  },
  {
   "cell_type": "code",
   "execution_count": 163,
   "metadata": {},
   "outputs": [
    {
     "data": {
      "image/png": "[encoded data removed]",
      "text/plain": [
       "<Figure size 432x288 with 1 Axes>"
      ]
     },
     "metadata": {},
     "output_type": "display_data"
    }
   ],
   "source": [
    "plt.scatter(y_test, y_predict, alpha = 0.4)\n",
    "plt.xlabel(\"CRIM\")\n",
    "plt.ylabel(\"Predict crime\")\n",
    "plt.title(\"Multiple linear regression\")\n",
    "plt.show()"
   ]
  },
  {
   "cell_type": "code",
   "execution_count": 164,
   "metadata": {},
   "outputs": [
    {
     "name": "stdout",
     "output_type": "stream",
     "text": [
      "[[-2.20932052e-17 -2.59684124e-16 -1.16988495e-15  2.44459557e-14\n",
      "   1.00000000e+00  3.08760099e-17  1.90100282e-16 -1.94495572e-16\n",
      "   4.89708127e-17 -2.15296055e-16  3.27815757e-17 -5.68106092e-16\n",
      "  -4.58377470e-16]]\n"
     ]
    }
   ],
   "source": [
    "print(mlr.coef_)"
   ]
  },
  {
   "cell_type": "code",
   "execution_count": 166,
   "metadata": {},
   "outputs": [
    {
     "name": "stdout",
     "output_type": "stream",
     "text": [
      "1.0\n"
     ]
    }
   ],
   "source": [
    "print(mlr.score(x_train, y_train))"
   ]
  },
  {
   "cell_type": "markdown",
   "metadata": {},
   "source": [
    "### 독립성"
   ]
  },
  {
   "cell_type": "code",
   "execution_count": 128,
   "metadata": {},
   "outputs": [
    {
     "data": {
      "text/plain": [
       "(3362.547672484171,\n",
       " 0.0,\n",
       " 528,\n",
       " array([[3.91389432e-02, 2.73972603e-01, 3.13111546e-01, 3.91389432e-02,\n",
       "         1.95694716e-01, 2.73972603e-01, 1.95694716e-01, 3.91389432e-01,\n",
       "         3.91389432e-02, 3.52250489e-01, 3.91389432e-02, 7.82778865e-02,\n",
       "         1.56555773e-01, 3.91389432e-02, 1.17416830e-01, 1.56555773e-01,\n",
       "         7.82778865e-02, 1.95694716e-01, 3.91389432e-02, 3.91389432e-02,\n",
       "         4.69667319e-01, 7.82778865e-02, 2.73972603e-01, 1.95694716e-01,\n",
       "         3.52250489e-01, 4.30528376e-01, 1.56555773e-01, 3.91389432e-02,\n",
       "         1.56555773e-01, 2.73972603e-01, 3.91389432e-02, 3.13111546e-01,\n",
       "         1.95694716e-01, 1.17416830e-01, 3.13111546e-01, 2.73972603e-01,\n",
       "         5.47945205e-01, 1.56555773e-01, 1.56555773e+00, 2.73972603e-01,\n",
       "         3.91389432e-02, 7.82778865e-02, 1.17416830e-01, 2.73972603e-01,\n",
       "         3.91389432e-01, 7.82778865e-02, 7.82778865e-02, 7.82778865e-02,\n",
       "         1.56555773e-01, 7.82778865e-02, 3.91389432e-02, 7.82778865e-02,\n",
       "         1.17416830e-01, 7.82778865e-02, 4.30528376e-01, 3.13111546e-01,\n",
       "         4.69667319e-01, 7.82778865e-02, 1.17416830e+00, 7.82778865e-02,\n",
       "         3.91389432e-02, 1.17416830e-01, 3.52250489e-01, 5.87084149e-01,\n",
       "         3.91389432e-02, 5.16634051e+00, 1.95694716e-01],\n",
       "        [4.69667319e-02, 3.28767123e-01, 3.75733855e-01, 4.69667319e-02,\n",
       "         2.34833659e-01, 3.28767123e-01, 2.34833659e-01, 4.69667319e-01,\n",
       "         4.69667319e-02, 4.22700587e-01, 4.69667319e-02, 9.39334638e-02,\n",
       "         1.87866928e-01, 4.69667319e-02, 1.40900196e-01, 1.87866928e-01,\n",
       "         9.39334638e-02, 2.34833659e-01, 4.69667319e-02, 4.69667319e-02,\n",
       "         5.63600783e-01, 9.39334638e-02, 3.28767123e-01, 2.34833659e-01,\n",
       "         4.22700587e-01, 5.16634051e-01, 1.87866928e-01, 4.69667319e-02,\n",
       "         1.87866928e-01, 3.28767123e-01, 4.69667319e-02, 3.75733855e-01,\n",
       "         2.34833659e-01, 1.40900196e-01, 3.75733855e-01, 3.28767123e-01,\n",
       "         6.57534247e-01, 1.87866928e-01, 1.87866928e+00, 3.28767123e-01,\n",
       "         4.69667319e-02, 9.39334638e-02, 1.40900196e-01, 3.28767123e-01,\n",
       "         4.69667319e-01, 9.39334638e-02, 9.39334638e-02, 9.39334638e-02,\n",
       "         1.87866928e-01, 9.39334638e-02, 4.69667319e-02, 9.39334638e-02,\n",
       "         1.40900196e-01, 9.39334638e-02, 5.16634051e-01, 3.75733855e-01,\n",
       "         5.63600783e-01, 9.39334638e-02, 1.40900196e+00, 9.39334638e-02,\n",
       "         4.69667319e-02, 1.40900196e-01, 4.22700587e-01, 7.04500978e-01,\n",
       "         4.69667319e-02, 6.19960861e+00, 2.34833659e-01],\n",
       "        [8.41487280e-02, 5.89041096e-01, 6.73189824e-01, 8.41487280e-02,\n",
       "         4.20743640e-01, 5.89041096e-01, 4.20743640e-01, 8.41487280e-01,\n",
       "         8.41487280e-02, 7.57338552e-01, 8.41487280e-02, 1.68297456e-01,\n",
       "         3.36594912e-01, 8.41487280e-02, 2.52446184e-01, 3.36594912e-01,\n",
       "         1.68297456e-01, 4.20743640e-01, 8.41487280e-02, 8.41487280e-02,\n",
       "         1.00978474e+00, 1.68297456e-01, 5.89041096e-01, 4.20743640e-01,\n",
       "         7.57338552e-01, 9.25636008e-01, 3.36594912e-01, 8.41487280e-02,\n",
       "         3.36594912e-01, 5.89041096e-01, 8.41487280e-02, 6.73189824e-01,\n",
       "         4.20743640e-01, 2.52446184e-01, 6.73189824e-01, 5.89041096e-01,\n",
       "         1.17808219e+00, 3.36594912e-01, 3.36594912e+00, 5.89041096e-01,\n",
       "         8.41487280e-02, 1.68297456e-01, 2.52446184e-01, 5.89041096e-01,\n",
       "         8.41487280e-01, 1.68297456e-01, 1.68297456e-01, 1.68297456e-01,\n",
       "         3.36594912e-01, 1.68297456e-01, 8.41487280e-02, 1.68297456e-01,\n",
       "         2.52446184e-01, 1.68297456e-01, 9.25636008e-01, 6.73189824e-01,\n",
       "         1.00978474e+00, 1.68297456e-01, 2.52446184e+00, 1.68297456e-01,\n",
       "         8.41487280e-02, 2.52446184e-01, 7.57338552e-01, 1.26223092e+00,\n",
       "         8.41487280e-02, 1.11076321e+01, 4.20743640e-01],\n",
       "        [2.15264188e-01, 1.50684932e+00, 1.72211350e+00, 2.15264188e-01,\n",
       "         1.07632094e+00, 1.50684932e+00, 1.07632094e+00, 2.15264188e+00,\n",
       "         2.15264188e-01, 1.93737769e+00, 2.15264188e-01, 4.30528376e-01,\n",
       "         8.61056751e-01, 2.15264188e-01, 6.45792564e-01, 8.61056751e-01,\n",
       "         4.30528376e-01, 1.07632094e+00, 2.15264188e-01, 2.15264188e-01,\n",
       "         2.58317025e+00, 4.30528376e-01, 1.50684932e+00, 1.07632094e+00,\n",
       "         1.93737769e+00, 2.36790607e+00, 8.61056751e-01, 2.15264188e-01,\n",
       "         8.61056751e-01, 1.50684932e+00, 2.15264188e-01, 1.72211350e+00,\n",
       "         1.07632094e+00, 6.45792564e-01, 1.72211350e+00, 1.50684932e+00,\n",
       "         3.01369863e+00, 8.61056751e-01, 8.61056751e+00, 1.50684932e+00,\n",
       "         2.15264188e-01, 4.30528376e-01, 6.45792564e-01, 1.50684932e+00,\n",
       "         2.15264188e+00, 4.30528376e-01, 4.30528376e-01, 4.30528376e-01,\n",
       "         8.61056751e-01, 4.30528376e-01, 2.15264188e-01, 4.30528376e-01,\n",
       "         6.45792564e-01, 4.30528376e-01, 2.36790607e+00, 1.72211350e+00,\n",
       "         2.58317025e+00, 4.30528376e-01, 6.45792564e+00, 4.30528376e-01,\n",
       "         2.15264188e-01, 6.45792564e-01, 1.93737769e+00, 3.22896282e+00,\n",
       "         2.15264188e-01, 2.84148728e+01, 1.07632094e+00],\n",
       "        [2.25048924e-01, 1.57534247e+00, 1.80039139e+00, 2.25048924e-01,\n",
       "         1.12524462e+00, 1.57534247e+00, 1.12524462e+00, 2.25048924e+00,\n",
       "         2.25048924e-01, 2.02544031e+00, 2.25048924e-01, 4.50097847e-01,\n",
       "         9.00195695e-01, 2.25048924e-01, 6.75146771e-01, 9.00195695e-01,\n",
       "         4.50097847e-01, 1.12524462e+00, 2.25048924e-01, 2.25048924e-01,\n",
       "         2.70058708e+00, 4.50097847e-01, 1.57534247e+00, 1.12524462e+00,\n",
       "         2.02544031e+00, 2.47553816e+00, 9.00195695e-01, 2.25048924e-01,\n",
       "         9.00195695e-01, 1.57534247e+00, 2.25048924e-01, 1.80039139e+00,\n",
       "         1.12524462e+00, 6.75146771e-01, 1.80039139e+00, 1.57534247e+00,\n",
       "         3.15068493e+00, 9.00195695e-01, 9.00195695e+00, 1.57534247e+00,\n",
       "         2.25048924e-01, 4.50097847e-01, 6.75146771e-01, 1.57534247e+00,\n",
       "         2.25048924e+00, 4.50097847e-01, 4.50097847e-01, 4.50097847e-01,\n",
       "         9.00195695e-01, 4.50097847e-01, 2.25048924e-01, 4.50097847e-01,\n",
       "         6.75146771e-01, 4.50097847e-01, 2.47553816e+00, 1.80039139e+00,\n",
       "         2.70058708e+00, 4.50097847e-01, 6.75146771e+00, 4.50097847e-01,\n",
       "         2.25048924e-01, 6.75146771e-01, 2.02544031e+00, 3.37573386e+00,\n",
       "         2.25048924e-01, 2.97064579e+01, 1.12524462e+00],\n",
       "        [5.08806262e-02, 3.56164384e-01, 4.07045010e-01, 5.08806262e-02,\n",
       "         2.54403131e-01, 3.56164384e-01, 2.54403131e-01, 5.08806262e-01,\n",
       "         5.08806262e-02, 4.57925636e-01, 5.08806262e-02, 1.01761252e-01,\n",
       "         2.03522505e-01, 5.08806262e-02, 1.52641879e-01, 2.03522505e-01,\n",
       "         1.01761252e-01, 2.54403131e-01, 5.08806262e-02, 5.08806262e-02,\n",
       "         6.10567515e-01, 1.01761252e-01, 3.56164384e-01, 2.54403131e-01,\n",
       "         4.57925636e-01, 5.59686888e-01, 2.03522505e-01, 5.08806262e-02,\n",
       "         2.03522505e-01, 3.56164384e-01, 5.08806262e-02, 4.07045010e-01,\n",
       "         2.54403131e-01, 1.52641879e-01, 4.07045010e-01, 3.56164384e-01,\n",
       "         7.12328767e-01, 2.03522505e-01, 2.03522505e+00, 3.56164384e-01,\n",
       "         5.08806262e-02, 1.01761252e-01, 1.52641879e-01, 3.56164384e-01,\n",
       "         5.08806262e-01, 1.01761252e-01, 1.01761252e-01, 1.01761252e-01,\n",
       "         2.03522505e-01, 1.01761252e-01, 5.08806262e-02, 1.01761252e-01,\n",
       "         1.52641879e-01, 1.01761252e-01, 5.59686888e-01, 4.07045010e-01,\n",
       "         6.10567515e-01, 1.01761252e-01, 1.52641879e+00, 1.01761252e-01,\n",
       "         5.08806262e-02, 1.52641879e-01, 4.57925636e-01, 7.63209393e-01,\n",
       "         5.08806262e-02, 6.71624266e+00, 2.54403131e-01],\n",
       "        [3.32681018e-02, 2.32876712e-01, 2.66144814e-01, 3.32681018e-02,\n",
       "         1.66340509e-01, 2.32876712e-01, 1.66340509e-01, 3.32681018e-01,\n",
       "         3.32681018e-02, 2.99412916e-01, 3.32681018e-02, 6.65362035e-02,\n",
       "         1.33072407e-01, 3.32681018e-02, 9.98043053e-02, 1.33072407e-01,\n",
       "         6.65362035e-02, 1.66340509e-01, 3.32681018e-02, 3.32681018e-02,\n",
       "         3.99217221e-01, 6.65362035e-02, 2.32876712e-01, 1.66340509e-01,\n",
       "         2.99412916e-01, 3.65949119e-01, 1.33072407e-01, 3.32681018e-02,\n",
       "         1.33072407e-01, 2.32876712e-01, 3.32681018e-02, 2.66144814e-01,\n",
       "         1.66340509e-01, 9.98043053e-02, 2.66144814e-01, 2.32876712e-01,\n",
       "         4.65753425e-01, 1.33072407e-01, 1.33072407e+00, 2.32876712e-01,\n",
       "         3.32681018e-02, 6.65362035e-02, 9.98043053e-02, 2.32876712e-01,\n",
       "         3.32681018e-01, 6.65362035e-02, 6.65362035e-02, 6.65362035e-02,\n",
       "         1.33072407e-01, 6.65362035e-02, 3.32681018e-02, 6.65362035e-02,\n",
       "         9.98043053e-02, 6.65362035e-02, 3.65949119e-01, 2.66144814e-01,\n",
       "         3.99217221e-01, 6.65362035e-02, 9.98043053e-01, 6.65362035e-02,\n",
       "         3.32681018e-02, 9.98043053e-02, 2.99412916e-01, 4.99021526e-01,\n",
       "         3.32681018e-02, 4.39138943e+00, 1.66340509e-01],\n",
       "        [4.69667319e-02, 3.28767123e-01, 3.75733855e-01, 4.69667319e-02,\n",
       "         2.34833659e-01, 3.28767123e-01, 2.34833659e-01, 4.69667319e-01,\n",
       "         4.69667319e-02, 4.22700587e-01, 4.69667319e-02, 9.39334638e-02,\n",
       "         1.87866928e-01, 4.69667319e-02, 1.40900196e-01, 1.87866928e-01,\n",
       "         9.39334638e-02, 2.34833659e-01, 4.69667319e-02, 4.69667319e-02,\n",
       "         5.63600783e-01, 9.39334638e-02, 3.28767123e-01, 2.34833659e-01,\n",
       "         4.22700587e-01, 5.16634051e-01, 1.87866928e-01, 4.69667319e-02,\n",
       "         1.87866928e-01, 3.28767123e-01, 4.69667319e-02, 3.75733855e-01,\n",
       "         2.34833659e-01, 1.40900196e-01, 3.75733855e-01, 3.28767123e-01,\n",
       "         6.57534247e-01, 1.87866928e-01, 1.87866928e+00, 3.28767123e-01,\n",
       "         4.69667319e-02, 9.39334638e-02, 1.40900196e-01, 3.28767123e-01,\n",
       "         4.69667319e-01, 9.39334638e-02, 9.39334638e-02, 9.39334638e-02,\n",
       "         1.87866928e-01, 9.39334638e-02, 4.69667319e-02, 9.39334638e-02,\n",
       "         1.40900196e-01, 9.39334638e-02, 5.16634051e-01, 3.75733855e-01,\n",
       "         5.63600783e-01, 9.39334638e-02, 1.40900196e+00, 9.39334638e-02,\n",
       "         4.69667319e-02, 1.40900196e-01, 4.22700587e-01, 7.04500978e-01,\n",
       "         4.69667319e-02, 6.19960861e+00, 2.34833659e-01],\n",
       "        [2.58317025e-01, 1.80821918e+00, 2.06653620e+00, 2.58317025e-01,\n",
       "         1.29158513e+00, 1.80821918e+00, 1.29158513e+00, 2.58317025e+00,\n",
       "         2.58317025e-01, 2.32485323e+00, 2.58317025e-01, 5.16634051e-01,\n",
       "         1.03326810e+00, 2.58317025e-01, 7.74951076e-01, 1.03326810e+00,\n",
       "         5.16634051e-01, 1.29158513e+00, 2.58317025e-01, 2.58317025e-01,\n",
       "         3.09980431e+00, 5.16634051e-01, 1.80821918e+00, 1.29158513e+00,\n",
       "         2.32485323e+00, 2.84148728e+00, 1.03326810e+00, 2.58317025e-01,\n",
       "         1.03326810e+00, 1.80821918e+00, 2.58317025e-01, 2.06653620e+00,\n",
       "         1.29158513e+00, 7.74951076e-01, 2.06653620e+00, 1.80821918e+00,\n",
       "         3.61643836e+00, 1.03326810e+00, 1.03326810e+01, 1.80821918e+00,\n",
       "         2.58317025e-01, 5.16634051e-01, 7.74951076e-01, 1.80821918e+00,\n",
       "         2.58317025e+00, 5.16634051e-01, 5.16634051e-01, 5.16634051e-01,\n",
       "         1.03326810e+00, 5.16634051e-01, 2.58317025e-01, 5.16634051e-01,\n",
       "         7.74951076e-01, 5.16634051e-01, 2.84148728e+00, 2.06653620e+00,\n",
       "         3.09980431e+00, 5.16634051e-01, 7.74951076e+00, 5.16634051e-01,\n",
       "         2.58317025e-01, 7.74951076e-01, 2.32485323e+00, 3.87475538e+00,\n",
       "         2.58317025e-01, 3.40978474e+01, 1.29158513e+00]]))"
      ]
     },
     "execution_count": 128,
     "metadata": {},
     "output_type": "execute_result"
    }
   ],
   "source": [
    "from scipy.stats import chi2_contingency\n",
    "data_crosstab = pd.crosstab(data[\"RAD\"], data[\"TAX\"])\n",
    "chi2_contingency(data_crosstab)"
   ]
  },
  {
   "cell_type": "markdown",
   "metadata": {},
   "source": [
    "순서대로 검정통계량, P-value, 자유도, 기대도수"
   ]
  },
  {
   "cell_type": "code",
   "execution_count": 129,
   "metadata": {},
   "outputs": [],
   "source": [
    "from statsmodels.formula.api import ols\n",
    "\n",
    "res = ols('CRIM ~ ZN', data=data).fit()"
   ]
  },
  {
   "cell_type": "code",
   "execution_count": 130,
   "metadata": {},
   "outputs": [
    {
     "name": "stderr",
     "output_type": "stream",
     "text": [
      "C:\\Users\\adore\\anaconda3\\lib\\site-packages\\statsmodels\\nonparametric\\smoothers_lowess.py:165: RuntimeWarning: invalid value encountered in true_divide\n",
      "  res = _lowess(y, x, frac=frac, it=it, delta=delta)\n",
      "C:\\Users\\adore\\anaconda3\\lib\\site-packages\\statsmodels\\nonparametric\\smoothers_lowess.py:165: RuntimeWarning: invalid value encountered in greater_equal\n",
      "  res = _lowess(y, x, frac=frac, it=it, delta=delta)\n"
     ]
    },
    {
     "data": {
      "text/plain": [
       "[<matplotlib.lines.Line2D at 0x2000dedda48>]"
      ]
     },
     "execution_count": 130,
     "metadata": {},
     "output_type": "execute_result"
    },
    {
     "data": {
      "image/png": "[encoded data removed]",
      "text/plain": [
       "<Figure size 432x288 with 1 Axes>"
      ]
     },
     "metadata": {},
     "output_type": "display_data"
    }
   ],
   "source": [
    "fitted = res.predict(data)\n",
    "residual = data[\"CRIM\"] - fitted\n",
    "\n",
    "sns.regplot(fitted, residual, lowess = True, line_kws = {'color' : 'red'})\n",
    "plt.plot([fitted.min(), fitted.max()], [0, 0], '--', color='grey')"
   ]
  },
  {
   "cell_type": "code",
   "execution_count": 131,
   "metadata": {},
   "outputs": [
    {
     "data": {
      "text/plain": [
       "[<matplotlib.lines.Line2D at 0x2000e752348>]"
      ]
     },
     "execution_count": 131,
     "metadata": {},
     "output_type": "execute_result"
    },
    {
     "data": {
      "image/png": "[encoded data removed]",
      "text/plain": [
       "<Figure size 432x288 with 1 Axes>"
      ]
     },
     "metadata": {},
     "output_type": "display_data"
    }
   ],
   "source": [
    "import scipy.stats\n",
    "sr = scipy.stats.zscore(residual)\n",
    "(x, y), _ = scipy.stats.probplot(sr)\n",
    "sns.scatterplot(x, y)\n",
    "plt.plot([-3, 3], [-3, 3], '--', color = 'grey')"
   ]
  },
  {
   "cell_type": "code",
   "execution_count": 132,
   "metadata": {},
   "outputs": [
    {
     "data": {
      "text/plain": [
       "(0.501678466796875, 1.8719535167260063e-35)"
      ]
     },
     "execution_count": 132,
     "metadata": {},
     "output_type": "execute_result"
    }
   ],
   "source": [
    "scipy.stats.shapiro(residual)"
   ]
  },
  {
   "cell_type": "markdown",
   "metadata": {},
   "source": [
    "### 이상값 처리"
   ]
  },
  {
   "cell_type": "code",
   "execution_count": 133,
   "metadata": {},
   "outputs": [
    {
     "data": {
      "text/plain": [
       "<matplotlib.axes._subplots.AxesSubplot at 0x2000ec00c08>"
      ]
     },
     "execution_count": 133,
     "metadata": {},
     "output_type": "execute_result"
    },
    {
     "data": {
      "image/png": "[encoded data removed]",
      "text/plain": [
       "<Figure size 432x288 with 1 Axes>"
      ]
     },
     "metadata": {},
     "output_type": "display_data"
    },
    {
     "data": {
      "image/png": "[encoded data removed]",
      "text/plain": [
       "<Figure size 432x288 with 1 Axes>"
      ]
     },
     "metadata": {},
     "output_type": "display_data"
    },
    {
     "data": {
      "image/png": "[encoded data removed]",
      "text/plain": [
       "<Figure size 432x288 with 1 Axes>"
      ]
     },
     "metadata": {},
     "output_type": "display_data"
    },
    {
     "data": {
      "image/png": "[encoded data removed]",
      "text/plain": [
       "<Figure size 432x288 with 1 Axes>"
      ]
     },
     "metadata": {},
     "output_type": "display_data"
    },
    {
     "data": {
      "image/png": "[encoded data removed]",
      "text/plain": [
       "<Figure size 432x288 with 1 Axes>"
      ]
     },
     "metadata": {},
     "output_type": "display_data"
    },
    {
     "data": {
      "image/png": "[encoded data removed]",
      "text/plain": [
       "<Figure size 432x288 with 1 Axes>"
      ]
     },
     "metadata": {},
     "output_type": "display_data"
    },
    {
     "data": {
      "image/png": "[encoded data removed]",
      "text/plain": [
       "<Figure size 432x288 with 1 Axes>"
      ]
     },
     "metadata": {},
     "output_type": "display_data"
    },
    {
     "data": {
      "image/png": "[encoded data removed]",
      "text/plain": [
       "<Figure size 432x288 with 1 Axes>"
      ]
     },
     "metadata": {},
     "output_type": "display_data"
    },
    {
     "data": {
      "image/png": "[encoded data removed]",
      "text/plain": [
       "<Figure size 432x288 with 1 Axes>"
      ]
     },
     "metadata": {},
     "output_type": "display_data"
    },
    {
     "data": {
      "image/png": "[encoded data removed]",
      "text/plain": [
       "<Figure size 432x288 with 1 Axes>"
      ]
     },
     "metadata": {},
     "output_type": "display_data"
    },
    {
     "data": {
      "image/png": "[encoded data removed]",
      "text/plain": [
       "<Figure size 432x288 with 1 Axes>"
      ]
     },
     "metadata": {},
     "output_type": "display_data"
    },
    {
     "data": {
      "image/png": "[encoded data removed]",
      "text/plain": [
       "<Figure size 432x288 with 1 Axes>"
      ]
     },
     "metadata": {},
     "output_type": "display_data"
    },
    {
     "data": {
      "image/png": "[encoded data removed]",
      "text/plain": [
       "<Figure size 432x288 with 1 Axes>"
      ]
     },
     "metadata": {},
     "output_type": "display_data"
    },
    {
     "data": {
      "image/png": "[encoded data removed]",
      "text/plain": [
       "<Figure size 432x288 with 1 Axes>"
      ]
     },
     "metadata": {},
     "output_type": "display_data"
    }
   ],
   "source": [
    "data.plot(kind = 'box', y = 'CRIM')\n",
    "data.plot(kind = 'box', y = 'ZN')\n",
    "data.plot(kind = 'box', y = 'INDUS')\n",
    "data.plot(kind = 'box', y = 'CHAS')\n",
    "data.plot(kind = 'box', y = 'NOX')\n",
    "data.plot(kind = 'box', y = 'RM')\n",
    "data.plot(kind = 'box', y = 'AGE')\n",
    "data.plot(kind = 'box', y = 'DIS')\n",
    "data.plot(kind = 'box', y = 'RAD')\n",
    "data.plot(kind = 'box', y = 'TAX')\n",
    "data.plot(kind = 'box', y = 'PTRATIO')\n",
    "data.plot(kind = 'box', y = 'B')\n",
    "data.plot(kind = 'box', y = 'LSTAT')\n",
    "data.plot(kind = 'box', y = 'MEDV')"
   ]
  },
  {
   "cell_type": "code",
   "execution_count": 134,
   "metadata": {},
   "outputs": [
    {
     "data": {
      "text/html": [
       "<div>\n",
       "<style scoped>\n",
       "    .dataframe tbody tr th:only-of-type {\n",
       "        vertical-align: middle;\n",
       "    }\n",
       "\n",
       "    .dataframe tbody tr th {\n",
       "        vertical-align: top;\n",
       "    }\n",
       "\n",
       "    .dataframe thead th {\n",
       "        text-align: right;\n",
       "    }\n",
       "</style>\n",
       "<table border=\"1\" class=\"dataframe\">\n",
       "  <thead>\n",
       "    <tr style=\"text-align: right;\">\n",
       "      <th></th>\n",
       "      <th>CRIM</th>\n",
       "      <th>ZN</th>\n",
       "      <th>INDUS</th>\n",
       "      <th>CHAS</th>\n",
       "      <th>NOX</th>\n",
       "      <th>RM</th>\n",
       "      <th>AGE</th>\n",
       "      <th>DIS</th>\n",
       "      <th>RAD</th>\n",
       "      <th>TAX</th>\n",
       "      <th>PTRATIO</th>\n",
       "      <th>B</th>\n",
       "      <th>LSTAT</th>\n",
       "      <th>MEDV</th>\n",
       "    </tr>\n",
       "  </thead>\n",
       "  <tbody>\n",
       "    <tr>\n",
       "      <th>356</th>\n",
       "      <td>8.98296</td>\n",
       "      <td>0.0</td>\n",
       "      <td>18.1</td>\n",
       "      <td>1</td>\n",
       "      <td>0.770</td>\n",
       "      <td>8.98296</td>\n",
       "      <td>97.4</td>\n",
       "      <td>2.1222</td>\n",
       "      <td>24</td>\n",
       "      <td>666</td>\n",
       "      <td>20.2</td>\n",
       "      <td>377.73</td>\n",
       "      <td>17.60</td>\n",
       "      <td>17.8</td>\n",
       "    </tr>\n",
       "    <tr>\n",
       "      <th>367</th>\n",
       "      <td>13.52220</td>\n",
       "      <td>0.0</td>\n",
       "      <td>18.1</td>\n",
       "      <td>0</td>\n",
       "      <td>0.631</td>\n",
       "      <td>13.52220</td>\n",
       "      <td>100.0</td>\n",
       "      <td>1.5106</td>\n",
       "      <td>24</td>\n",
       "      <td>666</td>\n",
       "      <td>20.2</td>\n",
       "      <td>131.42</td>\n",
       "      <td>13.33</td>\n",
       "      <td>23.1</td>\n",
       "    </tr>\n",
       "    <tr>\n",
       "      <th>371</th>\n",
       "      <td>9.23230</td>\n",
       "      <td>0.0</td>\n",
       "      <td>18.1</td>\n",
       "      <td>0</td>\n",
       "      <td>0.631</td>\n",
       "      <td>9.23230</td>\n",
       "      <td>100.0</td>\n",
       "      <td>1.1691</td>\n",
       "      <td>24</td>\n",
       "      <td>666</td>\n",
       "      <td>20.2</td>\n",
       "      <td>366.15</td>\n",
       "      <td>9.53</td>\n",
       "      <td>50.0</td>\n",
       "    </tr>\n",
       "    <tr>\n",
       "      <th>373</th>\n",
       "      <td>11.10810</td>\n",
       "      <td>0.0</td>\n",
       "      <td>18.1</td>\n",
       "      <td>0</td>\n",
       "      <td>0.668</td>\n",
       "      <td>11.10810</td>\n",
       "      <td>100.0</td>\n",
       "      <td>1.1742</td>\n",
       "      <td>24</td>\n",
       "      <td>666</td>\n",
       "      <td>20.2</td>\n",
       "      <td>396.90</td>\n",
       "      <td>34.77</td>\n",
       "      <td>13.8</td>\n",
       "    </tr>\n",
       "    <tr>\n",
       "      <th>374</th>\n",
       "      <td>18.49820</td>\n",
       "      <td>0.0</td>\n",
       "      <td>18.1</td>\n",
       "      <td>0</td>\n",
       "      <td>0.668</td>\n",
       "      <td>18.49820</td>\n",
       "      <td>100.0</td>\n",
       "      <td>1.1370</td>\n",
       "      <td>24</td>\n",
       "      <td>666</td>\n",
       "      <td>20.2</td>\n",
       "      <td>396.90</td>\n",
       "      <td>37.97</td>\n",
       "      <td>13.8</td>\n",
       "    </tr>\n",
       "    <tr>\n",
       "      <th>...</th>\n",
       "      <td>...</td>\n",
       "      <td>...</td>\n",
       "      <td>...</td>\n",
       "      <td>...</td>\n",
       "      <td>...</td>\n",
       "      <td>...</td>\n",
       "      <td>...</td>\n",
       "      <td>...</td>\n",
       "      <td>...</td>\n",
       "      <td>...</td>\n",
       "      <td>...</td>\n",
       "      <td>...</td>\n",
       "      <td>...</td>\n",
       "      <td>...</td>\n",
       "    </tr>\n",
       "    <tr>\n",
       "      <th>468</th>\n",
       "      <td>15.57570</td>\n",
       "      <td>0.0</td>\n",
       "      <td>18.1</td>\n",
       "      <td>0</td>\n",
       "      <td>0.580</td>\n",
       "      <td>15.57570</td>\n",
       "      <td>71.0</td>\n",
       "      <td>2.9084</td>\n",
       "      <td>24</td>\n",
       "      <td>666</td>\n",
       "      <td>20.2</td>\n",
       "      <td>368.74</td>\n",
       "      <td>18.13</td>\n",
       "      <td>19.1</td>\n",
       "    </tr>\n",
       "    <tr>\n",
       "      <th>469</th>\n",
       "      <td>13.07510</td>\n",
       "      <td>0.0</td>\n",
       "      <td>18.1</td>\n",
       "      <td>0</td>\n",
       "      <td>0.580</td>\n",
       "      <td>13.07510</td>\n",
       "      <td>56.7</td>\n",
       "      <td>2.8237</td>\n",
       "      <td>24</td>\n",
       "      <td>666</td>\n",
       "      <td>20.2</td>\n",
       "      <td>396.90</td>\n",
       "      <td>14.76</td>\n",
       "      <td>20.1</td>\n",
       "    </tr>\n",
       "    <tr>\n",
       "      <th>477</th>\n",
       "      <td>15.02340</td>\n",
       "      <td>0.0</td>\n",
       "      <td>18.1</td>\n",
       "      <td>0</td>\n",
       "      <td>0.614</td>\n",
       "      <td>15.02340</td>\n",
       "      <td>97.3</td>\n",
       "      <td>2.1007</td>\n",
       "      <td>24</td>\n",
       "      <td>666</td>\n",
       "      <td>20.2</td>\n",
       "      <td>349.48</td>\n",
       "      <td>24.91</td>\n",
       "      <td>12.0</td>\n",
       "    </tr>\n",
       "    <tr>\n",
       "      <th>478</th>\n",
       "      <td>10.23300</td>\n",
       "      <td>0.0</td>\n",
       "      <td>18.1</td>\n",
       "      <td>0</td>\n",
       "      <td>0.614</td>\n",
       "      <td>10.23300</td>\n",
       "      <td>96.7</td>\n",
       "      <td>2.1705</td>\n",
       "      <td>24</td>\n",
       "      <td>666</td>\n",
       "      <td>20.2</td>\n",
       "      <td>379.70</td>\n",
       "      <td>18.03</td>\n",
       "      <td>14.6</td>\n",
       "    </tr>\n",
       "    <tr>\n",
       "      <th>479</th>\n",
       "      <td>14.33370</td>\n",
       "      <td>0.0</td>\n",
       "      <td>18.1</td>\n",
       "      <td>0</td>\n",
       "      <td>0.614</td>\n",
       "      <td>14.33370</td>\n",
       "      <td>88.0</td>\n",
       "      <td>1.9512</td>\n",
       "      <td>24</td>\n",
       "      <td>666</td>\n",
       "      <td>20.2</td>\n",
       "      <td>383.32</td>\n",
       "      <td>13.11</td>\n",
       "      <td>21.4</td>\n",
       "    </tr>\n",
       "  </tbody>\n",
       "</table>\n",
       "<p>67 rows × 14 columns</p>\n",
       "</div>"
      ],
      "text/plain": [
       "         CRIM   ZN  INDUS  CHAS    NOX        RM    AGE     DIS  RAD  TAX  \\\n",
       "356   8.98296  0.0   18.1     1  0.770   8.98296   97.4  2.1222   24  666   \n",
       "367  13.52220  0.0   18.1     0  0.631  13.52220  100.0  1.5106   24  666   \n",
       "371   9.23230  0.0   18.1     0  0.631   9.23230  100.0  1.1691   24  666   \n",
       "373  11.10810  0.0   18.1     0  0.668  11.10810  100.0  1.1742   24  666   \n",
       "374  18.49820  0.0   18.1     0  0.668  18.49820  100.0  1.1370   24  666   \n",
       "..        ...  ...    ...   ...    ...       ...    ...     ...  ...  ...   \n",
       "468  15.57570  0.0   18.1     0  0.580  15.57570   71.0  2.9084   24  666   \n",
       "469  13.07510  0.0   18.1     0  0.580  13.07510   56.7  2.8237   24  666   \n",
       "477  15.02340  0.0   18.1     0  0.614  15.02340   97.3  2.1007   24  666   \n",
       "478  10.23300  0.0   18.1     0  0.614  10.23300   96.7  2.1705   24  666   \n",
       "479  14.33370  0.0   18.1     0  0.614  14.33370   88.0  1.9512   24  666   \n",
       "\n",
       "     PTRATIO       B  LSTAT  MEDV  \n",
       "356     20.2  377.73  17.60  17.8  \n",
       "367     20.2  131.42  13.33  23.1  \n",
       "371     20.2  366.15   9.53  50.0  \n",
       "373     20.2  396.90  34.77  13.8  \n",
       "374     20.2  396.90  37.97  13.8  \n",
       "..       ...     ...    ...   ...  \n",
       "468     20.2  368.74  18.13  19.1  \n",
       "469     20.2  396.90  14.76  20.1  \n",
       "477     20.2  349.48  24.91  12.0  \n",
       "478     20.2  379.70  18.03  14.6  \n",
       "479     20.2  383.32  13.11  21.4  \n",
       "\n",
       "[67 rows x 14 columns]"
      ]
     },
     "execution_count": 134,
     "metadata": {},
     "output_type": "execute_result"
    }
   ],
   "source": [
    "q1 = data['CRIM'].quantile(0.25)\n",
    "q3 = data['CRIM'].quantile(0.75)\n",
    "\n",
    "iqr = q3 - q1\n",
    "\n",
    "re = (data['CRIM'] < q1 - iqr * 1.5) | (data['CRIM'] > q3 + iqr * 1.5)\n",
    "data[re]"
   ]
  },
  {
   "cell_type": "markdown",
   "metadata": {},
   "source": [
    "### 정규화"
   ]
  },
  {
   "cell_type": "code",
   "execution_count": 135,
   "metadata": {},
   "outputs": [
    {
     "name": "stdout",
     "output_type": "stream",
     "text": [
      "[[-0.07216186  1.44       -0.57164988 ...  0.25860465 -0.64442231\n",
      "   0.35220126]\n",
      " [-0.06623056  0.         -0.20294345 ...  0.25860465 -0.23007968\n",
      "   0.05031447]\n",
      " [-0.06623621  0.         -0.20294345 ...  0.06930233 -0.73904382\n",
      "   1.69811321]\n",
      " ...\n",
      " [ 0.05160999  0.          0.21766073 ... -2.24837209  0.95119522\n",
      "   4.12578616]\n",
      " [ 0.14579312  0.          0.23315259 ... -2.24837209  6.42928287\n",
      "   5.76100629]\n",
      " [ 0.11094847  0.          0.24089853 ... -3.27162791  3.34163347\n",
      "   0.35220126]]\n"
     ]
    }
   ],
   "source": [
    "from sklearn.preprocessing import RobustScaler\n",
    "\n",
    "transformer = RobustScaler()\n",
    "transformer.fit(data)\n",
    "\n",
    "data = transformer.transform(data)\n",
    "\n",
    "print(data)"
   ]
  },
  {
   "cell_type": "markdown",
   "metadata": {},
   "source": [
    "## (4) 모델링"
   ]
  },
  {
   "cell_type": "code",
   "execution_count": null,
   "metadata": {},
   "outputs": [],
   "source": []
  },
  {
   "cell_type": "code",
   "execution_count": null,
   "metadata": {},
   "outputs": [],
   "source": []
  },
  {
   "cell_type": "code",
   "execution_count": null,
   "metadata": {},
   "outputs": [],
   "source": []
  }
 ],
 "metadata": {
  "kernelspec": {
   "display_name": "Python 3",
   "language": "python",
   "name": "python3"
  },
  "language_info": {
   "codemirror_mode": {
    "name": "ipython",
    "version": 3
   },
   "file_extension": ".py",
   "mimetype": "text/x-python",
   "name": "python",
   "nbconvert_exporter": "python",
   "pygments_lexer": "ipython3",
   "version": "3.7.6"
  }
 },
 "nbformat": 4,
 "nbformat_minor": 4
}
