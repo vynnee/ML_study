{
 "cells": [
  {
   "cell_type": "markdown",
   "metadata": {},
   "source": [
    "# Chapter 04 다양한 분류 알고리즘"
   ]
  },
  {
   "cell_type": "markdown",
   "metadata": {},
   "source": [
    "## 04-2 확률적 경사 하강법"
   ]
  },
  {
   "cell_type": "markdown",
   "metadata": {},
   "source": [
    "### 점진적인 학습"
   ]
  },
  {
   "cell_type": "markdown",
   "metadata": {},
   "source": [
    "**문제** 훈련 데이터가 한 번에 준비되는 것이 아니라 조금씩 전달된다. 도착하는 대로 생선을 판매해야 하므로 데이터가 쌓일 때까지 무작정 기다릴 수 없다.\n",
    "\n",
    "**->** 기존의 훈련 데이터에 새로운 데이터를 추가항 모델을 매일매일 다시 훈련하자.\n",
    "\n",
    "but, 시간이 지날수록 데이터가 늘어난다. 지속 가능한 방법이 아니다.\n",
    "\n",
    "**->** 새로운 데이터를 추가할 때 이전 데이터를 버림으로써 훈련 데이터 크기를 일정하게 유지하자.\n",
    "\n",
    "but, 데이터를 버릴 때 다른 데이터에 없는 중요한 생선 데이터가 포함되어 있다면 큰일이다. 앞으로 모델이 그 생선을 제대로 예측하지 못한다.\n",
    "\n",
    "**->** 훈련한 모델을 버리지 않고 새로운 데이터에 대해서만 조금씩 더 훈련하자.\n",
    "\n",
    "이를 **점진적 학습** 또는 온라인 학습이라고 한다.\n",
    "\n",
    "대표적인 점진적 학습 알고리즘은 **확률적 경사 하강법**이다."
   ]
  },
  {
   "cell_type": "markdown",
   "metadata": {},
   "source": [
    "#### 확률적 경사 하강법"
   ]
  },
  {
   "cell_type": "markdown",
   "metadata": {},
   "source": [
    "확률적 : 무작위하게 혹은 랜덤하게\n",
    "\n",
    "경사 : 기울기\n",
    "\n",
    "하강법 : 내려가는 방법\n",
    "\n",
    "**경사 하강법**\n",
    "\n",
    "가장 가파른 경사를 따라 원하는 지점에 도달하는 것이 목표이다. \n",
    "\n",
    "단, 조금씩 내려오는 것이 중요하다.\n",
    "\n",
    "**확률적**\n",
    "\n",
    "훈련 세트에서 랜덤하게 하나의 샘플을 고르는 것이다.\n",
    "\n",
    "**확률적 경사 하강법**\n",
    "\n",
    "훈련세트에서 랜덤하게 하나의 샘플을 선택하여 가파른 경사를 조금씩 내려간다. 그 다음 훈련 세트에서 랜덤하게 또 다른 샘플을 하나 선택하여 경사를 조금 내려간다. 이런식으로 전체 샘플을 모두 사용할 때까지 계속한다."
   ]
  },
  {
   "cell_type": "markdown",
   "metadata": {},
   "source": [
    "-> 만약 원하는 지점에 도달하지 못했다면?\n",
    "\n",
    "다시 처음부터 시작한다. 훈련 세트에 모든 샘플을 채워 넣고, 다시 랜덤하게 하나의 샘풀을 선택해 이어서 경사를 내려간다. 확률적 경사 하강법에서 훈련 세트를 한 번 모두 사용하는 과정을 **에포크**라고 한다. 일반적으로 수십, 수백 번 이상 에포크를 수행한다.\n",
    "\n",
    "1개씩 말고, 무작위로 몇 개의 샘플을 선택해서 경사를 따라 내려가는 방식을 **미니매치 경사 하강법**이라고 한다.\n",
    "\n",
    "극단적으로 한 번 경사로를 따라 이동하기 위해 전체 샘플을 사용할 수 있는데, 이를 **배치 경사 하강법**이라고 한다."
   ]
  },
  {
   "cell_type": "markdown",
   "metadata": {},
   "source": [
    "#### 손실 함수"
   ]
  },
  {
   "cell_type": "markdown",
   "metadata": {},
   "source": [
    "**손실 함수**란 어떤 문제에서 머신러닝 알고리즘이 얼마나 엉터리인지를 측정하는 기준이다. 손실 함수의 값이 작을수록 좋지만, 어떤 값이 최솟값인지는 모른다."
   ]
  },
  {
   "cell_type": "code",
   "execution_count": null,
   "metadata": {},
   "outputs": [],
   "source": []
  },
  {
   "cell_type": "code",
   "execution_count": null,
   "metadata": {},
   "outputs": [],
   "source": []
  },
  {
   "cell_type": "code",
   "execution_count": null,
   "metadata": {},
   "outputs": [],
   "source": []
  }
 ],
 "metadata": {
  "kernelspec": {
   "display_name": "Python 3",
   "language": "python",
   "name": "python3"
  },
  "language_info": {
   "codemirror_mode": {
    "name": "ipython",
    "version": 3
   },
   "file_extension": ".py",
   "mimetype": "text/x-python",
   "name": "python",
   "nbconvert_exporter": "python",
   "pygments_lexer": "ipython3",
   "version": "3.7.6"
  }
 },
 "nbformat": 4,
 "nbformat_minor": 4
}
